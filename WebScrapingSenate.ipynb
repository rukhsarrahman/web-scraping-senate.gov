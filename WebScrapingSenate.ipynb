{
  "nbformat": 4,
  "nbformat_minor": 0,
  "metadata": {
    "colab": {
      "provenance": []
    },
    "kernelspec": {
      "name": "python3",
      "display_name": "Python 3"
    },
    "language_info": {
      "name": "python"
    }
  },
  "cells": [
    {
      "cell_type": "code",
      "execution_count": 2,
      "metadata": {
        "id": "yKP7H7Mu1N9B"
      },
      "outputs": [],
      "source": [
        "from bs4 import BeautifulSoup\n",
        "from bs4.element import Comment\n",
        "import pandas as pd\n",
        "import numpy as np\n",
        "import requests"
      ]
    },
    {
      "cell_type": "code",
      "source": [
        "#scraping data from web\n",
        "url = \"https://www.senate.gov/legislative/LIS/roll_call_votes/vote1171/vote_117_1_00014.xml\"\n",
        "    \n",
        "xml_data = requests.get(url).content\n",
        "\n",
        "soup = BeautifulSoup(xml_data, \"xml\")\n",
        "\n",
        "last_name = soup.find_all('last_name')\n",
        "first_name = soup.find_all('first_name')\n",
        "party = soup.find_all('party')\n",
        "state = soup.find_all('state')\n",
        "vote_cast = soup.find_all('vote_cast')\n",
        "lis_member_id = soup.find_all('lis_member_id')\n",
        "\n",
        "data = []\n",
        "\n",
        "for i in range(len(last_name)):\n",
        "  row = [last_name[i].getText(), first_name[i].getText(), party[i].getText(), state[i].getText(), vote_cast[i].getText(), lis_member_id[i].getText()]\n",
        "  data.append(row)\n",
        "\n",
        "df = pd.DataFrame(data, columns = ['last_name', 'first_name', 'party', 'state', 'vote_cast', 'lis_member_id'])"
      ],
      "metadata": {
        "id": "qSgWepwb1TBq"
      },
      "execution_count": 3,
      "outputs": []
    },
    {
      "cell_type": "code",
      "source": [
        "df.head()"
      ],
      "metadata": {
        "colab": {
          "base_uri": "https://localhost:8080/",
          "height": 204
        },
        "id": "9HAQTVuGCzgf",
        "outputId": "d2700576-6ef7-46e8-b34c-710e4bc8d0c5"
      },
      "execution_count": 9,
      "outputs": [
        {
          "output_type": "execute_result",
          "data": {
            "text/plain": [
              "    last_name first_name party state vote_cast lis_member_id\n",
              "0     Baldwin      Tammy     D    WI       Yea          S354\n",
              "1    Barrasso       John     R    WY       Yea          S317\n",
              "2      Bennet    Michael     D    CO       Yea          S330\n",
              "3   Blackburn     Marsha     R    TN       Yea          S396\n",
              "4  Blumenthal    Richard     D    CT       Yea          S341"
            ],
            "text/html": [
              "\n",
              "  <div id=\"df-14e4d4a6-5632-43ac-99c8-37ca5738a1af\">\n",
              "    <div class=\"colab-df-container\">\n",
              "      <div>\n",
              "<style scoped>\n",
              "    .dataframe tbody tr th:only-of-type {\n",
              "        vertical-align: middle;\n",
              "    }\n",
              "\n",
              "    .dataframe tbody tr th {\n",
              "        vertical-align: top;\n",
              "    }\n",
              "\n",
              "    .dataframe thead th {\n",
              "        text-align: right;\n",
              "    }\n",
              "</style>\n",
              "<table border=\"1\" class=\"dataframe\">\n",
              "  <thead>\n",
              "    <tr style=\"text-align: right;\">\n",
              "      <th></th>\n",
              "      <th>last_name</th>\n",
              "      <th>first_name</th>\n",
              "      <th>party</th>\n",
              "      <th>state</th>\n",
              "      <th>vote_cast</th>\n",
              "      <th>lis_member_id</th>\n",
              "    </tr>\n",
              "  </thead>\n",
              "  <tbody>\n",
              "    <tr>\n",
              "      <th>0</th>\n",
              "      <td>Baldwin</td>\n",
              "      <td>Tammy</td>\n",
              "      <td>D</td>\n",
              "      <td>WI</td>\n",
              "      <td>Yea</td>\n",
              "      <td>S354</td>\n",
              "    </tr>\n",
              "    <tr>\n",
              "      <th>1</th>\n",
              "      <td>Barrasso</td>\n",
              "      <td>John</td>\n",
              "      <td>R</td>\n",
              "      <td>WY</td>\n",
              "      <td>Yea</td>\n",
              "      <td>S317</td>\n",
              "    </tr>\n",
              "    <tr>\n",
              "      <th>2</th>\n",
              "      <td>Bennet</td>\n",
              "      <td>Michael</td>\n",
              "      <td>D</td>\n",
              "      <td>CO</td>\n",
              "      <td>Yea</td>\n",
              "      <td>S330</td>\n",
              "    </tr>\n",
              "    <tr>\n",
              "      <th>3</th>\n",
              "      <td>Blackburn</td>\n",
              "      <td>Marsha</td>\n",
              "      <td>R</td>\n",
              "      <td>TN</td>\n",
              "      <td>Yea</td>\n",
              "      <td>S396</td>\n",
              "    </tr>\n",
              "    <tr>\n",
              "      <th>4</th>\n",
              "      <td>Blumenthal</td>\n",
              "      <td>Richard</td>\n",
              "      <td>D</td>\n",
              "      <td>CT</td>\n",
              "      <td>Yea</td>\n",
              "      <td>S341</td>\n",
              "    </tr>\n",
              "  </tbody>\n",
              "</table>\n",
              "</div>\n",
              "      <button class=\"colab-df-convert\" onclick=\"convertToInteractive('df-14e4d4a6-5632-43ac-99c8-37ca5738a1af')\"\n",
              "              title=\"Convert this dataframe to an interactive table.\"\n",
              "              style=\"display:none;\">\n",
              "        \n",
              "  <svg xmlns=\"http://www.w3.org/2000/svg\" height=\"24px\"viewBox=\"0 0 24 24\"\n",
              "       width=\"24px\">\n",
              "    <path d=\"M0 0h24v24H0V0z\" fill=\"none\"/>\n",
              "    <path d=\"M18.56 5.44l.94 2.06.94-2.06 2.06-.94-2.06-.94-.94-2.06-.94 2.06-2.06.94zm-11 1L8.5 8.5l.94-2.06 2.06-.94-2.06-.94L8.5 2.5l-.94 2.06-2.06.94zm10 10l.94 2.06.94-2.06 2.06-.94-2.06-.94-.94-2.06-.94 2.06-2.06.94z\"/><path d=\"M17.41 7.96l-1.37-1.37c-.4-.4-.92-.59-1.43-.59-.52 0-1.04.2-1.43.59L10.3 9.45l-7.72 7.72c-.78.78-.78 2.05 0 2.83L4 21.41c.39.39.9.59 1.41.59.51 0 1.02-.2 1.41-.59l7.78-7.78 2.81-2.81c.8-.78.8-2.07 0-2.86zM5.41 20L4 18.59l7.72-7.72 1.47 1.35L5.41 20z\"/>\n",
              "  </svg>\n",
              "      </button>\n",
              "      \n",
              "  <style>\n",
              "    .colab-df-container {\n",
              "      display:flex;\n",
              "      flex-wrap:wrap;\n",
              "      gap: 12px;\n",
              "    }\n",
              "\n",
              "    .colab-df-convert {\n",
              "      background-color: #E8F0FE;\n",
              "      border: none;\n",
              "      border-radius: 50%;\n",
              "      cursor: pointer;\n",
              "      display: none;\n",
              "      fill: #1967D2;\n",
              "      height: 32px;\n",
              "      padding: 0 0 0 0;\n",
              "      width: 32px;\n",
              "    }\n",
              "\n",
              "    .colab-df-convert:hover {\n",
              "      background-color: #E2EBFA;\n",
              "      box-shadow: 0px 1px 2px rgba(60, 64, 67, 0.3), 0px 1px 3px 1px rgba(60, 64, 67, 0.15);\n",
              "      fill: #174EA6;\n",
              "    }\n",
              "\n",
              "    [theme=dark] .colab-df-convert {\n",
              "      background-color: #3B4455;\n",
              "      fill: #D2E3FC;\n",
              "    }\n",
              "\n",
              "    [theme=dark] .colab-df-convert:hover {\n",
              "      background-color: #434B5C;\n",
              "      box-shadow: 0px 1px 3px 1px rgba(0, 0, 0, 0.15);\n",
              "      filter: drop-shadow(0px 1px 2px rgba(0, 0, 0, 0.3));\n",
              "      fill: #FFFFFF;\n",
              "    }\n",
              "  </style>\n",
              "\n",
              "      <script>\n",
              "        const buttonEl =\n",
              "          document.querySelector('#df-14e4d4a6-5632-43ac-99c8-37ca5738a1af button.colab-df-convert');\n",
              "        buttonEl.style.display =\n",
              "          google.colab.kernel.accessAllowed ? 'block' : 'none';\n",
              "\n",
              "        async function convertToInteractive(key) {\n",
              "          const element = document.querySelector('#df-14e4d4a6-5632-43ac-99c8-37ca5738a1af');\n",
              "          const dataTable =\n",
              "            await google.colab.kernel.invokeFunction('convertToInteractive',\n",
              "                                                     [key], {});\n",
              "          if (!dataTable) return;\n",
              "\n",
              "          const docLinkHtml = 'Like what you see? Visit the ' +\n",
              "            '<a target=\"_blank\" href=https://colab.research.google.com/notebooks/data_table.ipynb>data table notebook</a>'\n",
              "            + ' to learn more about interactive tables.';\n",
              "          element.innerHTML = '';\n",
              "          dataTable['output_type'] = 'display_data';\n",
              "          await google.colab.output.renderOutput(dataTable, element);\n",
              "          const docLink = document.createElement('div');\n",
              "          docLink.innerHTML = docLinkHtml;\n",
              "          element.appendChild(docLink);\n",
              "        }\n",
              "      </script>\n",
              "    </div>\n",
              "  </div>\n",
              "  "
            ]
          },
          "metadata": {},
          "execution_count": 9
        }
      ]
    },
    {
      "cell_type": "code",
      "source": [
        "df"
      ],
      "metadata": {
        "colab": {
          "base_uri": "https://localhost:8080/",
          "height": 419
        },
        "id": "d5rKkPDv4LY3",
        "outputId": "87176844-9b53-4b8d-cee3-78f8d81aeaf8"
      },
      "execution_count": 5,
      "outputs": [
        {
          "output_type": "execute_result",
          "data": {
            "text/plain": [
              "     last_name first_name party state vote_cast lis_member_id\n",
              "0      Baldwin      Tammy     D    WI       Yea          S354\n",
              "1     Barrasso       John     R    WY       Yea          S317\n",
              "2       Bennet    Michael     D    CO       Yea          S330\n",
              "3    Blackburn     Marsha     R    TN       Yea          S396\n",
              "4   Blumenthal    Richard     D    CT       Yea          S341\n",
              "..         ...        ...   ...   ...       ...           ...\n",
              "95      Warren  Elizabeth     D    MA       Yea          S366\n",
              "96  Whitehouse    Sheldon     D    RI       Yea          S316\n",
              "97      Wicker      Roger     R    MS       Yea          S318\n",
              "98       Wyden        Ron     D    OR       Yea          S247\n",
              "99       Young       Todd     R    IN       Yea          S391\n",
              "\n",
              "[100 rows x 6 columns]"
            ],
            "text/html": [
              "\n",
              "  <div id=\"df-2ae41034-0e27-4c42-b77c-b2b53c18dc38\">\n",
              "    <div class=\"colab-df-container\">\n",
              "      <div>\n",
              "<style scoped>\n",
              "    .dataframe tbody tr th:only-of-type {\n",
              "        vertical-align: middle;\n",
              "    }\n",
              "\n",
              "    .dataframe tbody tr th {\n",
              "        vertical-align: top;\n",
              "    }\n",
              "\n",
              "    .dataframe thead th {\n",
              "        text-align: right;\n",
              "    }\n",
              "</style>\n",
              "<table border=\"1\" class=\"dataframe\">\n",
              "  <thead>\n",
              "    <tr style=\"text-align: right;\">\n",
              "      <th></th>\n",
              "      <th>last_name</th>\n",
              "      <th>first_name</th>\n",
              "      <th>party</th>\n",
              "      <th>state</th>\n",
              "      <th>vote_cast</th>\n",
              "      <th>lis_member_id</th>\n",
              "    </tr>\n",
              "  </thead>\n",
              "  <tbody>\n",
              "    <tr>\n",
              "      <th>0</th>\n",
              "      <td>Baldwin</td>\n",
              "      <td>Tammy</td>\n",
              "      <td>D</td>\n",
              "      <td>WI</td>\n",
              "      <td>Yea</td>\n",
              "      <td>S354</td>\n",
              "    </tr>\n",
              "    <tr>\n",
              "      <th>1</th>\n",
              "      <td>Barrasso</td>\n",
              "      <td>John</td>\n",
              "      <td>R</td>\n",
              "      <td>WY</td>\n",
              "      <td>Yea</td>\n",
              "      <td>S317</td>\n",
              "    </tr>\n",
              "    <tr>\n",
              "      <th>2</th>\n",
              "      <td>Bennet</td>\n",
              "      <td>Michael</td>\n",
              "      <td>D</td>\n",
              "      <td>CO</td>\n",
              "      <td>Yea</td>\n",
              "      <td>S330</td>\n",
              "    </tr>\n",
              "    <tr>\n",
              "      <th>3</th>\n",
              "      <td>Blackburn</td>\n",
              "      <td>Marsha</td>\n",
              "      <td>R</td>\n",
              "      <td>TN</td>\n",
              "      <td>Yea</td>\n",
              "      <td>S396</td>\n",
              "    </tr>\n",
              "    <tr>\n",
              "      <th>4</th>\n",
              "      <td>Blumenthal</td>\n",
              "      <td>Richard</td>\n",
              "      <td>D</td>\n",
              "      <td>CT</td>\n",
              "      <td>Yea</td>\n",
              "      <td>S341</td>\n",
              "    </tr>\n",
              "    <tr>\n",
              "      <th>...</th>\n",
              "      <td>...</td>\n",
              "      <td>...</td>\n",
              "      <td>...</td>\n",
              "      <td>...</td>\n",
              "      <td>...</td>\n",
              "      <td>...</td>\n",
              "    </tr>\n",
              "    <tr>\n",
              "      <th>95</th>\n",
              "      <td>Warren</td>\n",
              "      <td>Elizabeth</td>\n",
              "      <td>D</td>\n",
              "      <td>MA</td>\n",
              "      <td>Yea</td>\n",
              "      <td>S366</td>\n",
              "    </tr>\n",
              "    <tr>\n",
              "      <th>96</th>\n",
              "      <td>Whitehouse</td>\n",
              "      <td>Sheldon</td>\n",
              "      <td>D</td>\n",
              "      <td>RI</td>\n",
              "      <td>Yea</td>\n",
              "      <td>S316</td>\n",
              "    </tr>\n",
              "    <tr>\n",
              "      <th>97</th>\n",
              "      <td>Wicker</td>\n",
              "      <td>Roger</td>\n",
              "      <td>R</td>\n",
              "      <td>MS</td>\n",
              "      <td>Yea</td>\n",
              "      <td>S318</td>\n",
              "    </tr>\n",
              "    <tr>\n",
              "      <th>98</th>\n",
              "      <td>Wyden</td>\n",
              "      <td>Ron</td>\n",
              "      <td>D</td>\n",
              "      <td>OR</td>\n",
              "      <td>Yea</td>\n",
              "      <td>S247</td>\n",
              "    </tr>\n",
              "    <tr>\n",
              "      <th>99</th>\n",
              "      <td>Young</td>\n",
              "      <td>Todd</td>\n",
              "      <td>R</td>\n",
              "      <td>IN</td>\n",
              "      <td>Yea</td>\n",
              "      <td>S391</td>\n",
              "    </tr>\n",
              "  </tbody>\n",
              "</table>\n",
              "<p>100 rows × 6 columns</p>\n",
              "</div>\n",
              "      <button class=\"colab-df-convert\" onclick=\"convertToInteractive('df-2ae41034-0e27-4c42-b77c-b2b53c18dc38')\"\n",
              "              title=\"Convert this dataframe to an interactive table.\"\n",
              "              style=\"display:none;\">\n",
              "        \n",
              "  <svg xmlns=\"http://www.w3.org/2000/svg\" height=\"24px\"viewBox=\"0 0 24 24\"\n",
              "       width=\"24px\">\n",
              "    <path d=\"M0 0h24v24H0V0z\" fill=\"none\"/>\n",
              "    <path d=\"M18.56 5.44l.94 2.06.94-2.06 2.06-.94-2.06-.94-.94-2.06-.94 2.06-2.06.94zm-11 1L8.5 8.5l.94-2.06 2.06-.94-2.06-.94L8.5 2.5l-.94 2.06-2.06.94zm10 10l.94 2.06.94-2.06 2.06-.94-2.06-.94-.94-2.06-.94 2.06-2.06.94z\"/><path d=\"M17.41 7.96l-1.37-1.37c-.4-.4-.92-.59-1.43-.59-.52 0-1.04.2-1.43.59L10.3 9.45l-7.72 7.72c-.78.78-.78 2.05 0 2.83L4 21.41c.39.39.9.59 1.41.59.51 0 1.02-.2 1.41-.59l7.78-7.78 2.81-2.81c.8-.78.8-2.07 0-2.86zM5.41 20L4 18.59l7.72-7.72 1.47 1.35L5.41 20z\"/>\n",
              "  </svg>\n",
              "      </button>\n",
              "      \n",
              "  <style>\n",
              "    .colab-df-container {\n",
              "      display:flex;\n",
              "      flex-wrap:wrap;\n",
              "      gap: 12px;\n",
              "    }\n",
              "\n",
              "    .colab-df-convert {\n",
              "      background-color: #E8F0FE;\n",
              "      border: none;\n",
              "      border-radius: 50%;\n",
              "      cursor: pointer;\n",
              "      display: none;\n",
              "      fill: #1967D2;\n",
              "      height: 32px;\n",
              "      padding: 0 0 0 0;\n",
              "      width: 32px;\n",
              "    }\n",
              "\n",
              "    .colab-df-convert:hover {\n",
              "      background-color: #E2EBFA;\n",
              "      box-shadow: 0px 1px 2px rgba(60, 64, 67, 0.3), 0px 1px 3px 1px rgba(60, 64, 67, 0.15);\n",
              "      fill: #174EA6;\n",
              "    }\n",
              "\n",
              "    [theme=dark] .colab-df-convert {\n",
              "      background-color: #3B4455;\n",
              "      fill: #D2E3FC;\n",
              "    }\n",
              "\n",
              "    [theme=dark] .colab-df-convert:hover {\n",
              "      background-color: #434B5C;\n",
              "      box-shadow: 0px 1px 3px 1px rgba(0, 0, 0, 0.15);\n",
              "      filter: drop-shadow(0px 1px 2px rgba(0, 0, 0, 0.3));\n",
              "      fill: #FFFFFF;\n",
              "    }\n",
              "  </style>\n",
              "\n",
              "      <script>\n",
              "        const buttonEl =\n",
              "          document.querySelector('#df-2ae41034-0e27-4c42-b77c-b2b53c18dc38 button.colab-df-convert');\n",
              "        buttonEl.style.display =\n",
              "          google.colab.kernel.accessAllowed ? 'block' : 'none';\n",
              "\n",
              "        async function convertToInteractive(key) {\n",
              "          const element = document.querySelector('#df-2ae41034-0e27-4c42-b77c-b2b53c18dc38');\n",
              "          const dataTable =\n",
              "            await google.colab.kernel.invokeFunction('convertToInteractive',\n",
              "                                                     [key], {});\n",
              "          if (!dataTable) return;\n",
              "\n",
              "          const docLinkHtml = 'Like what you see? Visit the ' +\n",
              "            '<a target=\"_blank\" href=https://colab.research.google.com/notebooks/data_table.ipynb>data table notebook</a>'\n",
              "            + ' to learn more about interactive tables.';\n",
              "          element.innerHTML = '';\n",
              "          dataTable['output_type'] = 'display_data';\n",
              "          await google.colab.output.renderOutput(dataTable, element);\n",
              "          const docLink = document.createElement('div');\n",
              "          docLink.innerHTML = docLinkHtml;\n",
              "          element.appendChild(docLink);\n",
              "        }\n",
              "      </script>\n",
              "    </div>\n",
              "  </div>\n",
              "  "
            ]
          },
          "metadata": {},
          "execution_count": 5
        }
      ]
    },
    {
      "cell_type": "markdown",
      "source": [
        "1)  Ratio of number of rows to the number of columns in your dataset?"
      ],
      "metadata": {
        "id": "t8qVAlOPcLgK"
      }
    },
    {
      "cell_type": "code",
      "source": [
        "df.shape[0]/df.shape[1]"
      ],
      "metadata": {
        "colab": {
          "base_uri": "https://localhost:8080/"
        },
        "id": "dJD8C_pyb1ms",
        "outputId": "62458ac2-f019-4b1c-9dcf-1dbdda019a24"
      },
      "execution_count": 44,
      "outputs": [
        {
          "output_type": "execute_result",
          "data": {
            "text/plain": [
              "16.666666666666668"
            ]
          },
          "metadata": {},
          "execution_count": 44
        }
      ]
    },
    {
      "cell_type": "markdown",
      "source": [
        "2) What's the total number of Yea votes from all senators whose name starts with \"B\"?"
      ],
      "metadata": {
        "id": "h4ZyxhCbcX1H"
      }
    },
    {
      "cell_type": "code",
      "source": [
        "yea_start_with_b = df[(df.last_name.str.startswith('B')) & (df.vote_cast == 'Yea')]\n",
        "yea_start_with_b"
      ],
      "metadata": {
        "colab": {
          "base_uri": "https://localhost:8080/",
          "height": 359
        },
        "id": "zPD6AHR-EY0s",
        "outputId": "b95c2d93-fae3-424f-a2ac-54483231bcc5"
      },
      "execution_count": 16,
      "outputs": [
        {
          "output_type": "execute_result",
          "data": {
            "text/plain": [
              "     last_name first_name party state vote_cast lis_member_id\n",
              "0      Baldwin      Tammy     D    WI       Yea          S354\n",
              "1     Barrasso       John     R    WY       Yea          S317\n",
              "2       Bennet    Michael     D    CO       Yea          S330\n",
              "3    Blackburn     Marsha     R    TN       Yea          S396\n",
              "4   Blumenthal    Richard     D    CT       Yea          S341\n",
              "5        Blunt        Roy     R    MO       Yea          S342\n",
              "6       Booker       Cory     D    NJ       Yea          S370\n",
              "7      Boozman       John     R    AR       Yea          S343\n",
              "9        Brown   Sherrod      D    OH       Yea          S307\n",
              "10        Burr    Richard     R    NC       Yea          S300"
            ],
            "text/html": [
              "\n",
              "  <div id=\"df-3abba15b-08da-4cac-971f-086f992265ca\">\n",
              "    <div class=\"colab-df-container\">\n",
              "      <div>\n",
              "<style scoped>\n",
              "    .dataframe tbody tr th:only-of-type {\n",
              "        vertical-align: middle;\n",
              "    }\n",
              "\n",
              "    .dataframe tbody tr th {\n",
              "        vertical-align: top;\n",
              "    }\n",
              "\n",
              "    .dataframe thead th {\n",
              "        text-align: right;\n",
              "    }\n",
              "</style>\n",
              "<table border=\"1\" class=\"dataframe\">\n",
              "  <thead>\n",
              "    <tr style=\"text-align: right;\">\n",
              "      <th></th>\n",
              "      <th>last_name</th>\n",
              "      <th>first_name</th>\n",
              "      <th>party</th>\n",
              "      <th>state</th>\n",
              "      <th>vote_cast</th>\n",
              "      <th>lis_member_id</th>\n",
              "    </tr>\n",
              "  </thead>\n",
              "  <tbody>\n",
              "    <tr>\n",
              "      <th>0</th>\n",
              "      <td>Baldwin</td>\n",
              "      <td>Tammy</td>\n",
              "      <td>D</td>\n",
              "      <td>WI</td>\n",
              "      <td>Yea</td>\n",
              "      <td>S354</td>\n",
              "    </tr>\n",
              "    <tr>\n",
              "      <th>1</th>\n",
              "      <td>Barrasso</td>\n",
              "      <td>John</td>\n",
              "      <td>R</td>\n",
              "      <td>WY</td>\n",
              "      <td>Yea</td>\n",
              "      <td>S317</td>\n",
              "    </tr>\n",
              "    <tr>\n",
              "      <th>2</th>\n",
              "      <td>Bennet</td>\n",
              "      <td>Michael</td>\n",
              "      <td>D</td>\n",
              "      <td>CO</td>\n",
              "      <td>Yea</td>\n",
              "      <td>S330</td>\n",
              "    </tr>\n",
              "    <tr>\n",
              "      <th>3</th>\n",
              "      <td>Blackburn</td>\n",
              "      <td>Marsha</td>\n",
              "      <td>R</td>\n",
              "      <td>TN</td>\n",
              "      <td>Yea</td>\n",
              "      <td>S396</td>\n",
              "    </tr>\n",
              "    <tr>\n",
              "      <th>4</th>\n",
              "      <td>Blumenthal</td>\n",
              "      <td>Richard</td>\n",
              "      <td>D</td>\n",
              "      <td>CT</td>\n",
              "      <td>Yea</td>\n",
              "      <td>S341</td>\n",
              "    </tr>\n",
              "    <tr>\n",
              "      <th>5</th>\n",
              "      <td>Blunt</td>\n",
              "      <td>Roy</td>\n",
              "      <td>R</td>\n",
              "      <td>MO</td>\n",
              "      <td>Yea</td>\n",
              "      <td>S342</td>\n",
              "    </tr>\n",
              "    <tr>\n",
              "      <th>6</th>\n",
              "      <td>Booker</td>\n",
              "      <td>Cory</td>\n",
              "      <td>D</td>\n",
              "      <td>NJ</td>\n",
              "      <td>Yea</td>\n",
              "      <td>S370</td>\n",
              "    </tr>\n",
              "    <tr>\n",
              "      <th>7</th>\n",
              "      <td>Boozman</td>\n",
              "      <td>John</td>\n",
              "      <td>R</td>\n",
              "      <td>AR</td>\n",
              "      <td>Yea</td>\n",
              "      <td>S343</td>\n",
              "    </tr>\n",
              "    <tr>\n",
              "      <th>9</th>\n",
              "      <td>Brown</td>\n",
              "      <td>Sherrod</td>\n",
              "      <td>D</td>\n",
              "      <td>OH</td>\n",
              "      <td>Yea</td>\n",
              "      <td>S307</td>\n",
              "    </tr>\n",
              "    <tr>\n",
              "      <th>10</th>\n",
              "      <td>Burr</td>\n",
              "      <td>Richard</td>\n",
              "      <td>R</td>\n",
              "      <td>NC</td>\n",
              "      <td>Yea</td>\n",
              "      <td>S300</td>\n",
              "    </tr>\n",
              "  </tbody>\n",
              "</table>\n",
              "</div>\n",
              "      <button class=\"colab-df-convert\" onclick=\"convertToInteractive('df-3abba15b-08da-4cac-971f-086f992265ca')\"\n",
              "              title=\"Convert this dataframe to an interactive table.\"\n",
              "              style=\"display:none;\">\n",
              "        \n",
              "  <svg xmlns=\"http://www.w3.org/2000/svg\" height=\"24px\"viewBox=\"0 0 24 24\"\n",
              "       width=\"24px\">\n",
              "    <path d=\"M0 0h24v24H0V0z\" fill=\"none\"/>\n",
              "    <path d=\"M18.56 5.44l.94 2.06.94-2.06 2.06-.94-2.06-.94-.94-2.06-.94 2.06-2.06.94zm-11 1L8.5 8.5l.94-2.06 2.06-.94-2.06-.94L8.5 2.5l-.94 2.06-2.06.94zm10 10l.94 2.06.94-2.06 2.06-.94-2.06-.94-.94-2.06-.94 2.06-2.06.94z\"/><path d=\"M17.41 7.96l-1.37-1.37c-.4-.4-.92-.59-1.43-.59-.52 0-1.04.2-1.43.59L10.3 9.45l-7.72 7.72c-.78.78-.78 2.05 0 2.83L4 21.41c.39.39.9.59 1.41.59.51 0 1.02-.2 1.41-.59l7.78-7.78 2.81-2.81c.8-.78.8-2.07 0-2.86zM5.41 20L4 18.59l7.72-7.72 1.47 1.35L5.41 20z\"/>\n",
              "  </svg>\n",
              "      </button>\n",
              "      \n",
              "  <style>\n",
              "    .colab-df-container {\n",
              "      display:flex;\n",
              "      flex-wrap:wrap;\n",
              "      gap: 12px;\n",
              "    }\n",
              "\n",
              "    .colab-df-convert {\n",
              "      background-color: #E8F0FE;\n",
              "      border: none;\n",
              "      border-radius: 50%;\n",
              "      cursor: pointer;\n",
              "      display: none;\n",
              "      fill: #1967D2;\n",
              "      height: 32px;\n",
              "      padding: 0 0 0 0;\n",
              "      width: 32px;\n",
              "    }\n",
              "\n",
              "    .colab-df-convert:hover {\n",
              "      background-color: #E2EBFA;\n",
              "      box-shadow: 0px 1px 2px rgba(60, 64, 67, 0.3), 0px 1px 3px 1px rgba(60, 64, 67, 0.15);\n",
              "      fill: #174EA6;\n",
              "    }\n",
              "\n",
              "    [theme=dark] .colab-df-convert {\n",
              "      background-color: #3B4455;\n",
              "      fill: #D2E3FC;\n",
              "    }\n",
              "\n",
              "    [theme=dark] .colab-df-convert:hover {\n",
              "      background-color: #434B5C;\n",
              "      box-shadow: 0px 1px 3px 1px rgba(0, 0, 0, 0.15);\n",
              "      filter: drop-shadow(0px 1px 2px rgba(0, 0, 0, 0.3));\n",
              "      fill: #FFFFFF;\n",
              "    }\n",
              "  </style>\n",
              "\n",
              "      <script>\n",
              "        const buttonEl =\n",
              "          document.querySelector('#df-3abba15b-08da-4cac-971f-086f992265ca button.colab-df-convert');\n",
              "        buttonEl.style.display =\n",
              "          google.colab.kernel.accessAllowed ? 'block' : 'none';\n",
              "\n",
              "        async function convertToInteractive(key) {\n",
              "          const element = document.querySelector('#df-3abba15b-08da-4cac-971f-086f992265ca');\n",
              "          const dataTable =\n",
              "            await google.colab.kernel.invokeFunction('convertToInteractive',\n",
              "                                                     [key], {});\n",
              "          if (!dataTable) return;\n",
              "\n",
              "          const docLinkHtml = 'Like what you see? Visit the ' +\n",
              "            '<a target=\"_blank\" href=https://colab.research.google.com/notebooks/data_table.ipynb>data table notebook</a>'\n",
              "            + ' to learn more about interactive tables.';\n",
              "          element.innerHTML = '';\n",
              "          dataTable['output_type'] = 'display_data';\n",
              "          await google.colab.output.renderOutput(dataTable, element);\n",
              "          const docLink = document.createElement('div');\n",
              "          docLink.innerHTML = docLinkHtml;\n",
              "          element.appendChild(docLink);\n",
              "        }\n",
              "      </script>\n",
              "    </div>\n",
              "  </div>\n",
              "  "
            ]
          },
          "metadata": {},
          "execution_count": 16
        }
      ]
    },
    {
      "cell_type": "code",
      "source": [
        "yea_start_with_b.shape[0]"
      ],
      "metadata": {
        "colab": {
          "base_uri": "https://localhost:8080/"
        },
        "id": "uY3gJGwMggFW",
        "outputId": "b0d8eee9-7962-4924-f174-7cc99c46be87"
      },
      "execution_count": 17,
      "outputs": [
        {
          "output_type": "execute_result",
          "data": {
            "text/plain": [
              "10"
            ]
          },
          "metadata": {},
          "execution_count": 17
        }
      ]
    },
    {
      "cell_type": "markdown",
      "source": [
        "3) How many Senators have their names starting with W?"
      ],
      "metadata": {
        "id": "wW4qi7Atcgd6"
      }
    },
    {
      "cell_type": "code",
      "source": [
        "start_with_w = df[(df.last_name.str.startswith('W'))]\n",
        "start_with_w"
      ],
      "metadata": {
        "colab": {
          "base_uri": "https://localhost:8080/",
          "height": 235
        },
        "id": "GbycUtIuF1aO",
        "outputId": "fd697215-16fb-4f77-c6e3-c7d4d81831b2"
      },
      "execution_count": 18,
      "outputs": [
        {
          "output_type": "execute_result",
          "data": {
            "text/plain": [
              "     last_name first_name party state vote_cast lis_member_id\n",
              "93      Warner       Mark     D    VA       Yea          S327\n",
              "94     Warnock    Raphael     D    GA       Yea          S415\n",
              "95      Warren  Elizabeth     D    MA       Yea          S366\n",
              "96  Whitehouse    Sheldon     D    RI       Yea          S316\n",
              "97      Wicker      Roger     R    MS       Yea          S318\n",
              "98       Wyden        Ron     D    OR       Yea          S247"
            ],
            "text/html": [
              "\n",
              "  <div id=\"df-b07459b2-1ddc-40dc-9feb-b2d22cce857f\">\n",
              "    <div class=\"colab-df-container\">\n",
              "      <div>\n",
              "<style scoped>\n",
              "    .dataframe tbody tr th:only-of-type {\n",
              "        vertical-align: middle;\n",
              "    }\n",
              "\n",
              "    .dataframe tbody tr th {\n",
              "        vertical-align: top;\n",
              "    }\n",
              "\n",
              "    .dataframe thead th {\n",
              "        text-align: right;\n",
              "    }\n",
              "</style>\n",
              "<table border=\"1\" class=\"dataframe\">\n",
              "  <thead>\n",
              "    <tr style=\"text-align: right;\">\n",
              "      <th></th>\n",
              "      <th>last_name</th>\n",
              "      <th>first_name</th>\n",
              "      <th>party</th>\n",
              "      <th>state</th>\n",
              "      <th>vote_cast</th>\n",
              "      <th>lis_member_id</th>\n",
              "    </tr>\n",
              "  </thead>\n",
              "  <tbody>\n",
              "    <tr>\n",
              "      <th>93</th>\n",
              "      <td>Warner</td>\n",
              "      <td>Mark</td>\n",
              "      <td>D</td>\n",
              "      <td>VA</td>\n",
              "      <td>Yea</td>\n",
              "      <td>S327</td>\n",
              "    </tr>\n",
              "    <tr>\n",
              "      <th>94</th>\n",
              "      <td>Warnock</td>\n",
              "      <td>Raphael</td>\n",
              "      <td>D</td>\n",
              "      <td>GA</td>\n",
              "      <td>Yea</td>\n",
              "      <td>S415</td>\n",
              "    </tr>\n",
              "    <tr>\n",
              "      <th>95</th>\n",
              "      <td>Warren</td>\n",
              "      <td>Elizabeth</td>\n",
              "      <td>D</td>\n",
              "      <td>MA</td>\n",
              "      <td>Yea</td>\n",
              "      <td>S366</td>\n",
              "    </tr>\n",
              "    <tr>\n",
              "      <th>96</th>\n",
              "      <td>Whitehouse</td>\n",
              "      <td>Sheldon</td>\n",
              "      <td>D</td>\n",
              "      <td>RI</td>\n",
              "      <td>Yea</td>\n",
              "      <td>S316</td>\n",
              "    </tr>\n",
              "    <tr>\n",
              "      <th>97</th>\n",
              "      <td>Wicker</td>\n",
              "      <td>Roger</td>\n",
              "      <td>R</td>\n",
              "      <td>MS</td>\n",
              "      <td>Yea</td>\n",
              "      <td>S318</td>\n",
              "    </tr>\n",
              "    <tr>\n",
              "      <th>98</th>\n",
              "      <td>Wyden</td>\n",
              "      <td>Ron</td>\n",
              "      <td>D</td>\n",
              "      <td>OR</td>\n",
              "      <td>Yea</td>\n",
              "      <td>S247</td>\n",
              "    </tr>\n",
              "  </tbody>\n",
              "</table>\n",
              "</div>\n",
              "      <button class=\"colab-df-convert\" onclick=\"convertToInteractive('df-b07459b2-1ddc-40dc-9feb-b2d22cce857f')\"\n",
              "              title=\"Convert this dataframe to an interactive table.\"\n",
              "              style=\"display:none;\">\n",
              "        \n",
              "  <svg xmlns=\"http://www.w3.org/2000/svg\" height=\"24px\"viewBox=\"0 0 24 24\"\n",
              "       width=\"24px\">\n",
              "    <path d=\"M0 0h24v24H0V0z\" fill=\"none\"/>\n",
              "    <path d=\"M18.56 5.44l.94 2.06.94-2.06 2.06-.94-2.06-.94-.94-2.06-.94 2.06-2.06.94zm-11 1L8.5 8.5l.94-2.06 2.06-.94-2.06-.94L8.5 2.5l-.94 2.06-2.06.94zm10 10l.94 2.06.94-2.06 2.06-.94-2.06-.94-.94-2.06-.94 2.06-2.06.94z\"/><path d=\"M17.41 7.96l-1.37-1.37c-.4-.4-.92-.59-1.43-.59-.52 0-1.04.2-1.43.59L10.3 9.45l-7.72 7.72c-.78.78-.78 2.05 0 2.83L4 21.41c.39.39.9.59 1.41.59.51 0 1.02-.2 1.41-.59l7.78-7.78 2.81-2.81c.8-.78.8-2.07 0-2.86zM5.41 20L4 18.59l7.72-7.72 1.47 1.35L5.41 20z\"/>\n",
              "  </svg>\n",
              "      </button>\n",
              "      \n",
              "  <style>\n",
              "    .colab-df-container {\n",
              "      display:flex;\n",
              "      flex-wrap:wrap;\n",
              "      gap: 12px;\n",
              "    }\n",
              "\n",
              "    .colab-df-convert {\n",
              "      background-color: #E8F0FE;\n",
              "      border: none;\n",
              "      border-radius: 50%;\n",
              "      cursor: pointer;\n",
              "      display: none;\n",
              "      fill: #1967D2;\n",
              "      height: 32px;\n",
              "      padding: 0 0 0 0;\n",
              "      width: 32px;\n",
              "    }\n",
              "\n",
              "    .colab-df-convert:hover {\n",
              "      background-color: #E2EBFA;\n",
              "      box-shadow: 0px 1px 2px rgba(60, 64, 67, 0.3), 0px 1px 3px 1px rgba(60, 64, 67, 0.15);\n",
              "      fill: #174EA6;\n",
              "    }\n",
              "\n",
              "    [theme=dark] .colab-df-convert {\n",
              "      background-color: #3B4455;\n",
              "      fill: #D2E3FC;\n",
              "    }\n",
              "\n",
              "    [theme=dark] .colab-df-convert:hover {\n",
              "      background-color: #434B5C;\n",
              "      box-shadow: 0px 1px 3px 1px rgba(0, 0, 0, 0.15);\n",
              "      filter: drop-shadow(0px 1px 2px rgba(0, 0, 0, 0.3));\n",
              "      fill: #FFFFFF;\n",
              "    }\n",
              "  </style>\n",
              "\n",
              "      <script>\n",
              "        const buttonEl =\n",
              "          document.querySelector('#df-b07459b2-1ddc-40dc-9feb-b2d22cce857f button.colab-df-convert');\n",
              "        buttonEl.style.display =\n",
              "          google.colab.kernel.accessAllowed ? 'block' : 'none';\n",
              "\n",
              "        async function convertToInteractive(key) {\n",
              "          const element = document.querySelector('#df-b07459b2-1ddc-40dc-9feb-b2d22cce857f');\n",
              "          const dataTable =\n",
              "            await google.colab.kernel.invokeFunction('convertToInteractive',\n",
              "                                                     [key], {});\n",
              "          if (!dataTable) return;\n",
              "\n",
              "          const docLinkHtml = 'Like what you see? Visit the ' +\n",
              "            '<a target=\"_blank\" href=https://colab.research.google.com/notebooks/data_table.ipynb>data table notebook</a>'\n",
              "            + ' to learn more about interactive tables.';\n",
              "          element.innerHTML = '';\n",
              "          dataTable['output_type'] = 'display_data';\n",
              "          await google.colab.output.renderOutput(dataTable, element);\n",
              "          const docLink = document.createElement('div');\n",
              "          docLink.innerHTML = docLinkHtml;\n",
              "          element.appendChild(docLink);\n",
              "        }\n",
              "      </script>\n",
              "    </div>\n",
              "  </div>\n",
              "  "
            ]
          },
          "metadata": {},
          "execution_count": 18
        }
      ]
    },
    {
      "cell_type": "code",
      "source": [
        "start_with_w.shape[0]"
      ],
      "metadata": {
        "colab": {
          "base_uri": "https://localhost:8080/"
        },
        "id": "I2JnZKl8mWvv",
        "outputId": "6bd355db-661d-4bae-e6a6-9dc744b44a83"
      },
      "execution_count": 19,
      "outputs": [
        {
          "output_type": "execute_result",
          "data": {
            "text/plain": [
              "6"
            ]
          },
          "metadata": {},
          "execution_count": 19
        }
      ]
    },
    {
      "cell_type": "markdown",
      "source": [
        "4) How many states have both Republican senators?  "
      ],
      "metadata": {
        "id": "tt1G4XoIpl7a"
      }
    },
    {
      "cell_type": "code",
      "source": [
        "both_republican_df = df[df.party == 'R']\n",
        "both_republican_dict = dict(both_republican_df['state'].value_counts())\n",
        "both_republican_dict"
      ],
      "metadata": {
        "id": "JoM1JMNbHFQZ",
        "colab": {
          "base_uri": "https://localhost:8080/"
        },
        "outputId": "3c7f3bef-dcb5-4595-8f94-6a7f6585568d"
      },
      "execution_count": 27,
      "outputs": [
        {
          "output_type": "execute_result",
          "data": {
            "text/plain": [
              "{'WY': 2,\n",
              " 'IA': 2,\n",
              " 'AL': 2,\n",
              " 'FL': 2,\n",
              " 'SD': 2,\n",
              " 'AK': 2,\n",
              " 'KY': 2,\n",
              " 'KS': 2,\n",
              " 'UT': 2,\n",
              " 'OK': 2,\n",
              " 'MS': 2,\n",
              " 'SC': 2,\n",
              " 'TN': 2,\n",
              " 'NE': 2,\n",
              " 'ID': 2,\n",
              " 'ND': 2,\n",
              " 'TX': 2,\n",
              " 'LA': 2,\n",
              " 'NC': 2,\n",
              " 'IN': 2,\n",
              " 'AR': 2,\n",
              " 'MO': 2,\n",
              " 'MT': 1,\n",
              " 'WI': 1,\n",
              " 'ME': 1,\n",
              " 'WV': 1,\n",
              " 'OH': 1,\n",
              " 'PA': 1}"
            ]
          },
          "metadata": {},
          "execution_count": 27
        }
      ]
    },
    {
      "cell_type": "code",
      "source": [
        "both_republican_list = [i for i in both_republican_dict.keys() if both_republican_dict[i] == 2]\n",
        "len(both_republican_list)"
      ],
      "metadata": {
        "colab": {
          "base_uri": "https://localhost:8080/"
        },
        "id": "A_ENGQaoog3M",
        "outputId": "30445be7-2fbc-4da2-aa41-6b2b7a2462c6"
      },
      "execution_count": 32,
      "outputs": [
        {
          "output_type": "execute_result",
          "data": {
            "text/plain": [
              "22"
            ]
          },
          "metadata": {},
          "execution_count": 32
        }
      ]
    },
    {
      "cell_type": "markdown",
      "source": [
        "5) How many democrats voted Nay?"
      ],
      "metadata": {
        "id": "E0i_30k0rJmM"
      }
    },
    {
      "cell_type": "code",
      "source": [
        "len(df[(df.party == 'D') & (df.vote_cast == 'Nay')].value_counts())"
      ],
      "metadata": {
        "colab": {
          "base_uri": "https://localhost:8080/"
        },
        "id": "7t6tUk6vrNIh",
        "outputId": "89fcc78b-588f-4433-a42f-eee85ce08670"
      },
      "execution_count": 55,
      "outputs": [
        {
          "output_type": "execute_result",
          "data": {
            "text/plain": [
              "0"
            ]
          },
          "metadata": {},
          "execution_count": 55
        }
      ]
    },
    {
      "cell_type": "markdown",
      "source": [
        "6) How many states voted all Nay?"
      ],
      "metadata": {
        "id": "pGV_Npj-sQlu"
      }
    },
    {
      "cell_type": "code",
      "source": [
        "nay_states_dict = dict(df[df.vote_cast == 'Nay'].state.value_counts())\n",
        "all_nay_states_list = [i for i in nay_states_dict.keys() if nay_states_dict[i] == 2]\n",
        "len(all_nay_states_list)"
      ],
      "metadata": {
        "colab": {
          "base_uri": "https://localhost:8080/"
        },
        "id": "YN-DSQpEsSEr",
        "outputId": "0309429d-fe5e-4ddf-e508-fda2fb0e8d95"
      },
      "execution_count": 68,
      "outputs": [
        {
          "output_type": "execute_result",
          "data": {
            "text/plain": [
              "0"
            ]
          },
          "metadata": {},
          "execution_count": 68
        }
      ]
    },
    {
      "cell_type": "markdown",
      "source": [
        "7)  What is the highest absolute difference in percentage between yea and nay senators among the different parties?"
      ],
      "metadata": {
        "id": "dheiY9KdvyEY"
      }
    },
    {
      "cell_type": "code",
      "source": [
        "nay_dems = len(df[(df.party == 'D') & (df.vote_cast == 'Nay')].value_counts())\n",
        "yea_dems = len(df[(df.party == 'D') & (df.vote_cast == 'Yea')].value_counts())\n",
        "dems_absolute_diff = abs(nay_dems - yea_dems)/(nay_dems + yea_dems)\n",
        "print(\"Absolute difference between yea and nay for democrats:\",dems_absolute_diff)\n",
        "\n",
        "nay_reps = len(df[(df.party == 'R') & (df.vote_cast == 'Nay')].value_counts())\n",
        "yea_reps = len(df[(df.party == 'R') & (df.vote_cast == 'Yea')].value_counts())\n",
        "reps_absolute_diff = abs(nay_reps - yea_reps)/(nay_reps + yea_reps)\n",
        "print(\"Absolute difference between yea and nay for republicans: \",reps_absolute_diff)\n",
        "\n",
        "print(\"Highest absolute difference in percentage: \", end=\"\")\n",
        "print(dems_absolute_diff*100 if dems_absolute_diff > reps_absolute_diff else reps_absolute_diff*100)"
      ],
      "metadata": {
        "colab": {
          "base_uri": "https://localhost:8080/"
        },
        "id": "Svi4KTT_vp5Z",
        "outputId": "9ee5f66e-5e20-46cf-b891-c12bff59df74"
      },
      "execution_count": 65,
      "outputs": [
        {
          "output_type": "stream",
          "name": "stdout",
          "text": [
            "Absolute difference between yea and nay for democrats: 1.0\n",
            "Absolute difference between yea and nay for republicans:  0.6\n",
            "Highest absolute difference in percentage: 100.0\n"
          ]
        }
      ]
    },
    {
      "cell_type": "markdown",
      "source": [
        "8) What is the votes ratio of Democrats' major decision to Republicans' major decision"
      ],
      "metadata": {
        "id": "WsGYqSxjytsn"
      }
    },
    {
      "cell_type": "code",
      "source": [
        "dems_major = nay_dems if nay_dems > yea_dems else yea_dems\n",
        "reps_major = nay_reps if nay_dems > yea_reps else yea_reps\n",
        "dems_major/reps_major"
      ],
      "metadata": {
        "colab": {
          "base_uri": "https://localhost:8080/"
        },
        "id": "4uiFvixNyxkw",
        "outputId": "96306e61-5fb7-410c-f348-0fcadc06946a"
      },
      "execution_count": 67,
      "outputs": [
        {
          "output_type": "execute_result",
          "data": {
            "text/plain": [
              "1.2"
            ]
          },
          "metadata": {},
          "execution_count": 67
        }
      ]
    },
    {
      "cell_type": "markdown",
      "source": [
        "9) How many states had at least 1 senator voting Nay?"
      ],
      "metadata": {
        "id": "OrZOUAsXzzy6"
      }
    },
    {
      "cell_type": "code",
      "source": [
        "len(set(nay_states_dict.keys()))"
      ],
      "metadata": {
        "colab": {
          "base_uri": "https://localhost:8080/"
        },
        "id": "XGkA15p2z4lA",
        "outputId": "033bce6d-5987-4dd7-950f-a001196f3ff5"
      },
      "execution_count": 69,
      "outputs": [
        {
          "output_type": "execute_result",
          "data": {
            "text/plain": [
              "10"
            ]
          },
          "metadata": {},
          "execution_count": 69
        }
      ]
    },
    {
      "cell_type": "markdown",
      "source": [
        "10) How many states have both Republican and Democrat senators?"
      ],
      "metadata": {
        "id": "Jmh7Rpx00RA_"
      }
    },
    {
      "cell_type": "code",
      "source": [
        "state_with_dems = set(df[df.party == 'D'].state)\n",
        "state_with_reps = set(df[df.party == 'R'].state)\n",
        "print(\"States with both Republican and Democrat senators: \",state_with_dems & state_with_reps)\n",
        "len(state_with_dems & state_with_reps)"
      ],
      "metadata": {
        "colab": {
          "base_uri": "https://localhost:8080/"
        },
        "id": "4Ms7Q7Ia0XvM",
        "outputId": "b036455d-aeb8-4dd1-d437-786db1b46628"
      },
      "execution_count": 83,
      "outputs": [
        {
          "output_type": "stream",
          "name": "stdout",
          "text": [
            "States with both Republican and Democrat senators:  {'WI', 'WV', 'PA', 'OH', 'MT'}\n"
          ]
        },
        {
          "output_type": "execute_result",
          "data": {
            "text/plain": [
              "5"
            ]
          },
          "metadata": {},
          "execution_count": 83
        }
      ]
    }
  ]
}